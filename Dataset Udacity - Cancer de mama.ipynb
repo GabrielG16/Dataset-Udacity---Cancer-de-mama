{
 "cells": [
  {
   "cell_type": "code",
   "execution_count": 33,
   "metadata": {},
   "outputs": [
    {
     "name": "stdout",
     "output_type": "stream",
     "text": [
      "<class 'pandas.core.frame.DataFrame'>\n",
      "RangeIndex: 306 entries, 0 to 305\n",
      "Data columns (total 4 columns):\n",
      " #   Column                  Non-Null Count  Dtype\n",
      "---  ------                  --------------  -----\n",
      " 0   Idade                   306 non-null    int64\n",
      " 1   Ano de operacao (19xx)  306 non-null    int64\n",
      " 2   Nódulos                 306 non-null    int64\n",
      " 3   Status                  306 non-null    int64\n",
      "dtypes: int64(4)\n",
      "memory usage: 9.7 KB\n"
     ]
    },
    {
     "data": {
      "text/html": [
       "<div>\n",
       "<style scoped>\n",
       "    .dataframe tbody tr th:only-of-type {\n",
       "        vertical-align: middle;\n",
       "    }\n",
       "\n",
       "    .dataframe tbody tr th {\n",
       "        vertical-align: top;\n",
       "    }\n",
       "\n",
       "    .dataframe thead th {\n",
       "        text-align: right;\n",
       "    }\n",
       "</style>\n",
       "<table border=\"1\" class=\"dataframe\">\n",
       "  <thead>\n",
       "    <tr style=\"text-align: right;\">\n",
       "      <th></th>\n",
       "      <th>Idade</th>\n",
       "      <th>Ano de operacao (19xx)</th>\n",
       "      <th>Nódulos</th>\n",
       "      <th>Status</th>\n",
       "    </tr>\n",
       "  </thead>\n",
       "  <tbody>\n",
       "    <tr>\n",
       "      <th>0</th>\n",
       "      <td>30</td>\n",
       "      <td>64</td>\n",
       "      <td>1</td>\n",
       "      <td>1</td>\n",
       "    </tr>\n",
       "    <tr>\n",
       "      <th>1</th>\n",
       "      <td>30</td>\n",
       "      <td>62</td>\n",
       "      <td>3</td>\n",
       "      <td>1</td>\n",
       "    </tr>\n",
       "    <tr>\n",
       "      <th>2</th>\n",
       "      <td>30</td>\n",
       "      <td>65</td>\n",
       "      <td>0</td>\n",
       "      <td>1</td>\n",
       "    </tr>\n",
       "    <tr>\n",
       "      <th>3</th>\n",
       "      <td>31</td>\n",
       "      <td>59</td>\n",
       "      <td>2</td>\n",
       "      <td>1</td>\n",
       "    </tr>\n",
       "    <tr>\n",
       "      <th>4</th>\n",
       "      <td>31</td>\n",
       "      <td>65</td>\n",
       "      <td>4</td>\n",
       "      <td>1</td>\n",
       "    </tr>\n",
       "  </tbody>\n",
       "</table>\n",
       "</div>"
      ],
      "text/plain": [
       "   Idade  Ano de operacao (19xx)  Nódulos  Status\n",
       "0     30                      64        1       1\n",
       "1     30                      62        3       1\n",
       "2     30                      65        0       1\n",
       "3     31                      59        2       1\n",
       "4     31                      65        4       1"
      ]
     },
     "execution_count": 33,
     "metadata": {},
     "output_type": "execute_result"
    }
   ],
   "source": [
    "import pandas as pd\n",
    "import matplotlib as plt\n",
    "df = pd.read_csv('haberman.data', names = ['Idade','Ano de operacao (19xx)','Nódulos','Status'])\n",
    "#df = df.drop_duplicates()\n",
    "#df = df.dropna()\n",
    "df.info()\n",
    "df.describe()"
   ]
  },
  {
   "cell_type": "code",
   "execution_count": 274,
   "metadata": {},
   "outputs": [
    {
     "data": {
      "text/plain": [
       "(0.6215644660877737, 0.04120273272298633)"
      ]
     },
     "execution_count": 274,
     "metadata": {},
     "output_type": "execute_result"
    },
    {
     "data": {
      "image/png": "[encoded data removed]",
      "text/plain": [
       "<Figure size 432x288 with 1 Axes>"
      ]
     },
     "metadata": {
      "needs_background": "light"
     },
     "output_type": "display_data"
    }
   ],
   "source": [
    "%matplotlib inline\n",
    "\n",
    "df['Idade'].min()\n",
    "df['Idade'].max()\n",
    "intervalos = [ 29, 35, 40, 45, 50, 55, 60, 65, 70, 75, 80, 85]\n",
    "df['Faixa etaria'] = pd.cut(df['Idade'], intervalos, labels=['30 a 35 anos','36 a 40 anos','41 a 45 anos', '46 a 50 anos','51 a 55 anos', '56 a 60 anos', '61 a 65 anos', '66 a 70 anos', '71 a 75 anos', '76 a 80 anos', '81 a 85 anos'])\n",
    "df_faixa_etaria = df_faixa_etaria.reset_index()\n",
    "df_faixa_etaria = df.groupby('Faixa etaria').mean()\n",
    "df_faixa_etaria = df_faixa_etaria.reset_index()\n",
    "df_faixa_etaria.sort_values('Faixa etaria', inplace = True)\n",
    "plt.pyplot.scatter(df_faixa_etaria['Idade'],df_faixa_etaria['Status'])\n",
    "\n",
    "#VERIFICANDO RELAÇÃO ENTRE FAIXA ETARIA MÉDIA E SOBREVIVENCIA\n",
    "\n",
    "sp.stats.pearsonr(df_faixa_etaria['Idade'],df_faixa_etaria['Status'])\n",
    "\n",
    "#A taxa de correlação, no entanto, aponta para uma correlação positiva entre as variáveis com 60% "
   ]
  },
  {
   "cell_type": "markdown",
   "metadata": {},
   "source": [
    "O Gráfico não parece indicar alguma relação entre as variáveis, mantendo uma certa linearidade da idade com a proporção de sobreviventes o que indica que não parecem estar correlacionados"
   ]
  },
  {
   "cell_type": "code",
   "execution_count": 269,
   "metadata": {},
   "outputs": [
    {
     "data": {
      "text/plain": [
       "(0.48337081584542374, 0.15697168101155165)"
      ]
     },
     "execution_count": 269,
     "metadata": {},
     "output_type": "execute_result"
    },
    {
     "data": {
      "image/png": "[encoded data removed]",
      "text/plain": [
       "<Figure size 432x288 with 1 Axes>"
      ]
     },
     "metadata": {
      "needs_background": "light"
     },
     "output_type": "display_data"
    }
   ],
   "source": [
    "df_faixa_etaria.drop(df_faixa_etaria.index[df_faixa_etaria['Status']==2], inplace = True)\n",
    "plt.pyplot.scatter(df_faixa_etaria['Idade'],df_faixa_etaria['Status'])\n",
    "sp.stats.pearsonr(df_faixa_etaria['Idade'],df_faixa_etaria['Status']) \n",
    "#No entanto, a relação cai para 48% quando retirado o ponto mais discrepante"
   ]
  },
  {
   "cell_type": "code",
   "execution_count": 228,
   "metadata": {},
   "outputs": [
    {
     "data": {
      "text/plain": [
       "<matplotlib.collections.PathCollection at 0x2c379ae2430>"
      ]
     },
     "execution_count": 228,
     "metadata": {},
     "output_type": "execute_result"
    },
    {
     "data": {
      "image/png": "[encoded data removed]",
      "text/plain": [
       "<Figure size 432x288 with 1 Axes>"
      ]
     },
     "metadata": {
      "needs_background": "light"
     },
     "output_type": "display_data"
    }
   ],
   "source": [
    "df['Nódulos'].min()\n",
    "df['Nódulos'].describe()\n",
    "intervalos = ['Até 6','Entre 6 e 11', 'Entre 11 e 16', 'Entre 16 e 21','Entre 21 e 27','Entre 27 e 33','Entre 33 e 39', 'Entre 39 e 45','Entre 45 e 51','Mais de 51']\n",
    "df['Faixa de nódulos']=pd.cut(df['Nódulos'], 10, labels = intervalos)\n",
    "df_nodulos = df.groupby('Faixa de nódulos').mean().sort_values('Nódulos')\n",
    "df_nodulos.dropna(inplace = True)\n",
    "plt.pyplot.scatter(df_nodulos['Nódulos'],df_nodulos['Status'])\n"
   ]
  },
  {
   "cell_type": "code",
   "execution_count": 230,
   "metadata": {},
   "outputs": [
    {
     "data": {
      "text/plain": [
       "['Entre 27 e 33', 'Entre 45 e 51']"
      ]
     },
     "execution_count": 230,
     "metadata": {},
     "output_type": "execute_result"
    }
   ],
   "source": [
    "list(df_nodulos.index[df_nodulos['Status']==1])"
   ]
  },
  {
   "cell_type": "code",
   "execution_count": 214,
   "metadata": {},
   "outputs": [
    {
     "data": {
      "text/plain": [
       "(0.25775794959410725, 0.5031102125173044)"
      ]
     },
     "execution_count": 214,
     "metadata": {},
     "output_type": "execute_result"
    }
   ],
   "source": [
    "#plt.pyplot.scatter(df_faixa_etaria['Faixa etaria'], df_faixa_etaria['Status'])\n",
    "import numpy as np\n",
    "import scipy as sp\n",
    "sp.stats.pearsonr(df_nodulos['Nódulos'], df_nodulos['Status'])\n",
    "#A correlação no entanto é de apenas 25%"
   ]
  },
  {
   "cell_type": "code",
   "execution_count": 233,
   "metadata": {},
   "outputs": [
    {
     "data": {
      "text/plain": [
       "(0.932618186258561, 0.002182482454691854)"
      ]
     },
     "execution_count": 233,
     "metadata": {},
     "output_type": "execute_result"
    },
    {
     "data": {
      "image/png": "[encoded data removed]",
      "text/plain": [
       "<Figure size 432x288 with 1 Axes>"
      ]
     },
     "metadata": {
      "needs_background": "light"
     },
     "output_type": "display_data"
    }
   ],
   "source": [
    "#Excluindo valores discrepantes\n",
    "df_nodulos.drop(index = df_nodulos.index[df_nodulos['Status']==1], inplace = True)\n",
    "plt.pyplot.scatter(df_nodulos['Nódulos'],df_nodulos['Status'])\n",
    "sp.stats.pearsonr(df_nodulos['Nódulos'], df_nodulos['Status'])"
   ]
  },
  {
   "cell_type": "markdown",
   "metadata": {},
   "source": [
    "Ao excluir os valores, a correlação vai a 93%. Indicando forte relação entre as variáveis.\n",
    "O eixo vertical do gráfico indica a média entre os pacientes que viveram até mais de 5 anos após a cirurgia (1) e pacientes que não resistiram dentro desse período (2)\n",
    "A proporção de pacientes que não resistiram até 5 anos após a cirurgia aumenta com o aumento de nódulos presentes, o que pode indicar uma relação\n",
    "de causa para o óbito. Ou seja,  o número de nódulos no paciente está fortemente correlacionado com a possibilidade sobreivência do paciente\n"
   ]
  },
  {
   "cell_type": "code",
   "execution_count": 237,
   "metadata": {},
   "outputs": [
    {
     "data": {
      "text/html": [
       "<div>\n",
       "<style scoped>\n",
       "    .dataframe tbody tr th:only-of-type {\n",
       "        vertical-align: middle;\n",
       "    }\n",
       "\n",
       "    .dataframe tbody tr th {\n",
       "        vertical-align: top;\n",
       "    }\n",
       "\n",
       "    .dataframe thead th {\n",
       "        text-align: right;\n",
       "    }\n",
       "</style>\n",
       "<table border=\"1\" class=\"dataframe\">\n",
       "  <thead>\n",
       "    <tr style=\"text-align: right;\">\n",
       "      <th></th>\n",
       "      <th>Idade</th>\n",
       "      <th>Ano de operacao (19xx)</th>\n",
       "      <th>Nódulos</th>\n",
       "    </tr>\n",
       "    <tr>\n",
       "      <th>Status</th>\n",
       "      <th></th>\n",
       "      <th></th>\n",
       "      <th></th>\n",
       "    </tr>\n",
       "  </thead>\n",
       "  <tbody>\n",
       "    <tr>\n",
       "      <th>1</th>\n",
       "      <td>52.017778</td>\n",
       "      <td>62.862222</td>\n",
       "      <td>2.791111</td>\n",
       "    </tr>\n",
       "    <tr>\n",
       "      <th>2</th>\n",
       "      <td>53.679012</td>\n",
       "      <td>62.827160</td>\n",
       "      <td>7.456790</td>\n",
       "    </tr>\n",
       "  </tbody>\n",
       "</table>\n",
       "</div>"
      ],
      "text/plain": [
       "            Idade  Ano de operacao (19xx)   Nódulos\n",
       "Status                                             \n",
       "1       52.017778               62.862222  2.791111\n",
       "2       53.679012               62.827160  7.456790"
      ]
     },
     "execution_count": 237,
     "metadata": {},
     "output_type": "execute_result"
    }
   ],
   "source": [
    "agregado = df.groupby('Status').mean()\n",
    "agregado.sort_index()"
   ]
  },
  {
   "cell_type": "code",
   "execution_count": 261,
   "metadata": {},
   "outputs": [
    {
     "data": {
      "text/plain": [
       "(-0.33419531979811584, 0.018930504008795677)"
      ]
     },
     "execution_count": 261,
     "metadata": {},
     "output_type": "execute_result"
    },
    {
     "data": {
      "image/png": "[encoded data removed]",
      "text/plain": [
       "<Figure size 432x288 with 1 Axes>"
      ]
     },
     "metadata": {
      "needs_background": "light"
     },
     "output_type": "display_data"
    }
   ],
   "source": [
    "agregado2 = df.groupby('Idade').mean()\n",
    "agregado2.reset_index(inplace = True)\n",
    "plt.pyplot.scatter(agregado2['Idade'], agregado2['Nódulos'])\n",
    "sp.stats.pearsonr(agregado2['Idade'], agregado2['Nódulos'])"
   ]
  },
  {
   "cell_type": "code",
   "execution_count": 283,
   "metadata": {},
   "outputs": [
    {
     "data": {
      "text/plain": [
       "(array([236.,  30.,  18.,   8.,   9.,   2.,   1.,   0.,   1.,   1.]),\n",
       " array([ 0. ,  5.2, 10.4, 15.6, 20.8, 26. , 31.2, 36.4, 41.6, 46.8, 52. ]),\n",
       " <a list of 10 Patch objects>)"
      ]
     },
     "execution_count": 283,
     "metadata": {},
     "output_type": "execute_result"
    },
    {
     "data": {
      "image/png": "[encoded data removed]",
      "text/plain": [
       "<Figure size 432x288 with 1 Axes>"
      ]
     },
     "metadata": {
      "needs_background": "light"
     },
     "output_type": "display_data"
    }
   ],
   "source": [
    "plt.pyplot.hist(df['Nódulos'])"
   ]
  },
  {
   "cell_type": "markdown",
   "metadata": {},
   "source": [
    "Conclui-se que parece haver uma relação significante entre a chance de óbito de um paciente com o número de nódulos em seu corpo. \n",
    "Recomenda-se a realização de estudos para avaliar se existem causas que comprovem essa correlação.</n>"
   ]
  },
  {
   "cell_type": "code",
   "execution_count": null,
   "metadata": {},
   "outputs": [],
   "source": []
  }
 ],
 "metadata": {
  "kernelspec": {
   "display_name": "Python 3",
   "language": "python",
   "name": "python3"
  },
  "language_info": {
   "codemirror_mode": {
    "name": "ipython",
    "version": 3
   },
   "file_extension": ".py",
   "mimetype": "text/x-python",
   "name": "python",
   "nbconvert_exporter": "python",
   "pygments_lexer": "ipython3",
   "version": "3.8.5"
  }
 },
 "nbformat": 4,
 "nbformat_minor": 4
}
